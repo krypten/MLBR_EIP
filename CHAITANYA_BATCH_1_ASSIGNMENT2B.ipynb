{
 "cells": [
  {
   "cell_type": "markdown",
   "metadata": {
    "deletable": true,
    "editable": true
   },
   "source": [
    "# Assignment 2B\n",
    "\n",
    "## Student Details\n",
    "**Student Name:** Chaitanya Agrawal  \n",
    "**Batch No.:** Batch 1"
   ]
  },
  {
   "cell_type": "markdown",
   "metadata": {},
   "source": [
    "## MULTILAYER PERCEPTRON\n",
    "\n",
    "**0:** Input and Output values"
   ]
  },
  {
   "cell_type": "code",
   "execution_count": 1,
   "metadata": {
    "collapsed": true
   },
   "outputs": [],
   "source": [
    "import numpy as np\n",
    "\n",
    "X = np.array([[1,0,1,0], [1,0,1,1], [0,1,0,1]])\n",
    "y = np.array([[1],[1],[0]])"
   ]
  },
  {
   "cell_type": "markdown",
   "metadata": {},
   "source": [
    "##### Table with input and output values\n",
    "\n",
    "| X |   |   |   |\n",
    "|---|---|---|---|\n",
    "| 1 | 0 | 1 | 0 |\n",
    "| 1 | 0 | 1 | 1 |\n",
    "| 0 | 1 | 0 | 1 |\n",
    "\n",
    "\n",
    "| y |\n",
    "|---|\n",
    "| 1 |\n",
    "| 1 |\n",
    "| 0 |"
   ]
  },
  {
   "cell_type": "markdown",
   "metadata": {},
   "source": [
    "#### **1:** Initialize weights and biases with random values (There are methods to initialize weights and biases but for now initialize with random values)"
   ]
  },
  {
   "cell_type": "code",
   "execution_count": 2,
   "metadata": {
    "collapsed": false,
    "deletable": true,
    "editable": true
   },
   "outputs": [
    {
     "name": "stdout",
     "output_type": "stream",
     "text": [
      "[[ 0.17399648  0.48221904  0.27114345]\n",
      " [ 0.94624376  0.82994694  0.3027812 ]\n",
      " [ 0.20593831  0.64217035  0.00237566]\n",
      " [ 0.90988722  0.81834929  0.93616461]]\n",
      "[[ 0.18812898  0.67572342  0.63850462]]\n",
      "[[ 0.29641655]\n",
      " [ 0.51236446]\n",
      " [ 0.49083155]]\n",
      "[[ 0.06145448]]\n"
     ]
    }
   ],
   "source": [
    "# Code to generate random values\n",
    "wh = np.random.rand(4,3)\n",
    "bh = np.random.rand(1,3)\n",
    "wout = np.random.rand(3,1)\n",
    "bout = np.random.rand(1,1)\n",
    "# Print weights and bias\n",
    "print(wh)\n",
    "print(bh)\n",
    "print(wout)\n",
    "print(bout)"
   ]
  },
  {
   "cell_type": "markdown",
   "metadata": {
    "deletable": true,
    "editable": true
   },
   "source": [
    "##### Table with weights and bias initialized\n",
    "\n",
    "| wh|   |   |\n",
    "|---|---|---|\n",
    "| 0.17399648 | 0.48221904 | 0.27114345]\n",
    "| 0.94624376 | 0.82994694 | 0.3027812 ]\n",
    "| 0.20593831 | 0.64217035 | 0.00237566]\n",
    "| 0.90988722 | 0.81834929 | 0.93616461]]\n",
    "\n",
    "| bh|   |   |\n",
    "|---|---|---|\n",
    "| 0.18812898 | 0.67572342 | 0.63850462 |\n",
    "\n",
    "| wout |\n",
    "|------|\n",
    "| 0.29641655 |\n",
    "| 0.51236446 |\n",
    "| 0.49083155 |\n",
    "\n",
    "| bout |\n",
    "|------|\n",
    "| 0.06145448 |"
   ]
  },
  {
   "cell_type": "markdown",
   "metadata": {},
   "source": [
    "#### **2:** Calculating hidden layer input:"
   ]
  },
  {
   "cell_type": "code",
   "execution_count": 3,
   "metadata": {
    "collapsed": false,
    "deletable": true,
    "editable": true
   },
   "outputs": [
    {
     "name": "stdout",
     "output_type": "stream",
     "text": [
      "[[ 0.56806377  1.80011281  0.91202373]\n",
      " [ 1.47795099  2.6184621   1.84818834]\n",
      " [ 2.04425995  2.32401965  1.87745043]]\n"
     ]
    }
   ],
   "source": [
    "hidden_layer_input = np.dot(X, wh) + bh\n",
    "# Print hidden_layer_input\n",
    "print(hidden_layer_input)"
   ]
  },
  {
   "cell_type": "markdown",
   "metadata": {
    "deletable": true,
    "editable": true
   },
   "source": [
    "##### Table with hidden layer initialized\n",
    "\n",
    "| hidden_layer_input|   |   |\n",
    "|-------------------|---|---|\n",
    "| 0.56806377 | 1.80011281 | 0.91202373 |\n",
    "| 1.47795099 | 2.6184621  | 1.84818834 |\n",
    "| 2.04425995 | 2.32401965 | 1.87745043 |\n"
   ]
  },
  {
   "cell_type": "markdown",
   "metadata": {},
   "source": [
    "#### **3:** Performing non-linear transformation on hidden linear input"
   ]
  },
  {
   "cell_type": "code",
   "execution_count": 4,
   "metadata": {
    "collapsed": false,
    "deletable": true,
    "editable": true
   },
   "outputs": [
    {
     "name": "stdout",
     "output_type": "stream",
     "text": [
      "[[ 0.63831628  0.85816267  0.7134141 ]\n",
      " [ 0.81426289  0.93204036  0.86391425]\n",
      " [ 0.88536633  0.9108469   0.867318  ]]\n"
     ]
    }
   ],
   "source": [
    "sigmoid = lambda x : 1.0 / (1.0 + np.exp(-x))\n",
    "\n",
    "hiddenlayer_activations = sigmoid(hidden_layer_input)\n",
    "# Print hiddenlayer_activations\n",
    "print(hiddenlayer_activations)"
   ]
  },
  {
   "cell_type": "markdown",
   "metadata": {
    "deletable": true,
    "editable": true
   },
   "source": [
    "##### Table with hidden layer activations\n",
    "\n",
    "| hiddenlayer_activations|   |   |\n",
    "|------------------------|---|---|\n",
    "| 0.63831628 | 0.85816267 | 0.7134141  |\n",
    "| 0.81426289 | 0.93204036 | 0.86391425 |\n",
    "| 0.88536633 | 0.9108469  | 0.867318   |"
   ]
  },
  {
   "cell_type": "markdown",
   "metadata": {},
   "source": [
    "#### **4:** Performing linear and non-linear transformation of hidden layer activation at output layer"
   ]
  },
  {
   "cell_type": "code",
   "execution_count": 5,
   "metadata": {
    "collapsed": false,
    "deletable": true,
    "editable": true
   },
   "outputs": [
    {
     "name": "stdout",
     "output_type": "stream",
     "text": [
      "[[ 1.04052019]\n",
      " [ 1.2043962 ]\n",
      " [ 1.21628433]]\n",
      "[[ 0.73895036]\n",
      " [ 0.76930592]\n",
      " [ 0.771409  ]]\n"
     ]
    }
   ],
   "source": [
    "output_layer_input = np.dot(hiddenlayer_activations, wout) + bout\n",
    "output = sigmoid(output_layer_input)\n",
    "# Print output_layer_input & output\n",
    "print(output_layer_input)\n",
    "print(output)"
   ]
  },
  {
   "cell_type": "markdown",
   "metadata": {},
   "source": [
    "##### Table with output\n",
    "\n",
    "| output     |\n",
    "|------------|\n",
    "| 0.73895036 |\n",
    "| 0.76930592 |\n",
    "| 0.771409   |"
   ]
  },
  {
   "cell_type": "markdown",
   "metadata": {},
   "source": [
    "#### **5:** Calculating gradient of Error(E) at output layer"
   ]
  },
  {
   "cell_type": "code",
   "execution_count": 6,
   "metadata": {
    "collapsed": false
   },
   "outputs": [
    {
     "name": "stdout",
     "output_type": "stream",
     "text": [
      "[[ 0.26104964]\n",
      " [ 0.23069408]\n",
      " [-0.771409  ]]\n"
     ]
    }
   ],
   "source": [
    "E = y - output\n",
    "# Print E\n",
    "print(E)"
   ]
  },
  {
   "cell_type": "markdown",
   "metadata": {},
   "source": [
    "##### Table with Error(E)\n",
    "\n",
    "| E |\n",
    "|---|\n",
    "| 0.26104964 |\n",
    "| 0.23069408 |\n",
    "| -0.771409  |\n"
   ]
  },
  {
   "cell_type": "markdown",
   "metadata": {},
   "source": [
    "#### **6:** Computing slope at output and hidden layer"
   ]
  },
  {
   "cell_type": "code",
   "execution_count": 7,
   "metadata": {
    "collapsed": false
   },
   "outputs": [
    {
     "name": "stdout",
     "output_type": "stream",
     "text": [
      "[[ 0.21875368]\n",
      " [ 0.21637517]\n",
      " [ 0.21620815]]\n",
      "[[ 0.22616905  0.20908416  0.22070593]\n",
      " [ 0.21274438  0.20269851  0.20859678]\n",
      " [ 0.20676386  0.20455709  0.20830754]]\n"
     ]
    }
   ],
   "source": [
    "sigmoid_derivative = lambda x : (sigmoid(x) * (1 - sigmoid(x)))\n",
    "\n",
    "slope_output_layer = sigmoid_derivative(output)\n",
    "slope_hidden_layer = sigmoid_derivative(hiddenlayer_activations)\n",
    "# Print slope_output_layer & slope_hidden_layer\n",
    "print(slope_output_layer)\n",
    "print(slope_hidden_layer)"
   ]
  },
  {
   "cell_type": "markdown",
   "metadata": {},
   "source": [
    "##### Table with Slope_output_layer and Slope_hidden_layer\n",
    "\n",
    "| Slope_output_layer|\n",
    "|-------------------|\n",
    "| 0.21875368 |\n",
    "| 0.21637517 |\n",
    "| 0.21620815 |\n",
    "\n",
    "| Slope_hidden_layer|   |   |\n",
    "|-------------------|---|---|\n",
    "| 0.22616905 | 0.20908416 | 0.22070593 |\n",
    "| 0.21274438 | 0.20269851 | 0.20859678 |\n",
    "| 0.20676386 | 0.20455709 | 0.20830754 |"
   ]
  },
  {
   "cell_type": "markdown",
   "metadata": {},
   "source": [
    "#### **7:** Computing delta at output layer"
   ]
  },
  {
   "cell_type": "code",
   "execution_count": 8,
   "metadata": {
    "collapsed": false
   },
   "outputs": [
    {
     "name": "stdout",
     "output_type": "stream",
     "text": [
      "[[ 0.05710557]\n",
      " [ 0.04991647]\n",
      " [-0.16678491]]\n"
     ]
    }
   ],
   "source": [
    "learning_rate = 1.0\n",
    "d_output = E * slope_output_layer * learning_rate\n",
    "# Print d_output\n",
    "print(d_output)"
   ]
  },
  {
   "cell_type": "markdown",
   "metadata": {},
   "source": [
    "##### Table with d_output\n",
    "\n",
    "| d_output    |\n",
    "|-------------|\n",
    "| 0.05710557  |\n",
    "| 0.04991647  |\n",
    "| -0.16678491 |"
   ]
  },
  {
   "cell_type": "markdown",
   "metadata": {},
   "source": [
    "#### **8:** Calculating Error at hidden layer"
   ]
  },
  {
   "cell_type": "code",
   "execution_count": 9,
   "metadata": {
    "collapsed": false
   },
   "outputs": [
    {
     "name": "stdout",
     "output_type": "stream",
     "text": [
      "[[ 0.01692704  0.02925886  0.02802921]\n",
      " [ 0.01479607  0.02557543  0.02450058]\n",
      " [-0.04943781 -0.08545466 -0.0818633 ]]\n"
     ]
    }
   ],
   "source": [
    "error_at_hidden_layer = np.dot(d_output, wout.T)\n",
    "# Print error_at_hidden_layer\n",
    "print(error_at_hidden_layer)"
   ]
  },
  {
   "cell_type": "markdown",
   "metadata": {},
   "source": [
    "##### Table with error_at_hidden_layer\n",
    "\n",
    "| error_at_hidden_layer|   |   |\n",
    "|----------------------|---|---|\n",
    "| 0.01692704  | 0.02925886  | 0.02802921 |\n",
    "| 0.01479607  | 0.02557543  | 0.02450058 |\n",
    "| -0.04943781 | -0.08545466 | -0.0818633 |"
   ]
  },
  {
   "cell_type": "markdown",
   "metadata": {},
   "source": [
    "#### **9:** Computing delta at hidden layer"
   ]
  },
  {
   "cell_type": "code",
   "execution_count": 10,
   "metadata": {
    "collapsed": false
   },
   "outputs": [
    {
     "name": "stdout",
     "output_type": "stream",
     "text": [
      "[[ 0.00382837  0.00611756  0.00618621]\n",
      " [ 0.00314778  0.0051841   0.00511074]\n",
      " [-0.01022195 -0.01748036 -0.01705274]]\n"
     ]
    }
   ],
   "source": [
    "d_hiddenlayer = error_at_hidden_layer * slope_hidden_layer\n",
    "# Print d_hiddenlayer\n",
    "print(d_hiddenlayer)"
   ]
  },
  {
   "cell_type": "markdown",
   "metadata": {},
   "source": [
    "##### Table with d_hiddenlayer\n",
    "\n",
    "| d_hiddenlayer|   |   |\n",
    "|--------------|---|---|\n",
    "| 0.00382837  | 0.00611756  | 0.00618621  |\n",
    "| 0.00314778  | 0.0051841   | 0.00511074  |\n",
    "| -0.01022195 | -0.01748036 | -0.01705274 |"
   ]
  },
  {
   "cell_type": "markdown",
   "metadata": {},
   "source": [
    "#### **10:** Updating weight at both output and hidden layer"
   ]
  },
  {
   "cell_type": "code",
   "execution_count": 11,
   "metadata": {
    "collapsed": false,
    "deletable": true,
    "editable": true
   },
   "outputs": [
    {
     "name": "stdout",
     "output_type": "stream",
     "text": [
      "[[ 0.18097263  0.4935207   0.28244041]\n",
      " [ 0.9360218   0.81246658  0.28572846]\n",
      " [ 0.21291447  0.65347201  0.01367262]\n",
      " [ 0.90281305  0.80605303  0.92422261]]\n",
      "[[ 0.22584735]\n",
      " [ 0.45597897]\n",
      " [ 0.43003947]]\n"
     ]
    }
   ],
   "source": [
    "wh = wh + np.dot(X.T, d_hiddenlayer) * learning_rate\n",
    "wout = wout + np.dot(hiddenlayer_activations.T, d_output) * learning_rate\n",
    "# Print wout & wh\n",
    "print(wh)\n",
    "print(wout)"
   ]
  },
  {
   "cell_type": "markdown",
   "metadata": {},
   "source": [
    "##### Table with weights\n",
    "\n",
    "| wh|   |   |\n",
    "|---|---|---|\n",
    "| 0.18097263 | 0.4935207  | 0.28244041 |\n",
    "| 0.9360218  | 0.81246658 | 0.28572846 |\n",
    "| 0.21291447 | 0.65347201 | 0.01367262 |\n",
    "| 0.90281305 | 0.80605303 | 0.92422261 |\n",
    "\n",
    "| wout |\n",
    "|------|\n",
    "| 0.22584735 |\n",
    "| 0.45597897 |\n",
    "| 0.43003947 |\n"
   ]
  },
  {
   "cell_type": "markdown",
   "metadata": {},
   "source": [
    "#### **11:** Updating biases at both output and hidden layer"
   ]
  },
  {
   "cell_type": "code",
   "execution_count": 12,
   "metadata": {
    "collapsed": false,
    "deletable": true,
    "editable": true
   },
   "outputs": [
    {
     "name": "stdout",
     "output_type": "stream",
     "text": [
      "[[ 0.18488318  0.66954473  0.63274883]]\n",
      "[[ 0.00169162]]\n"
     ]
    }
   ],
   "source": [
    "bh = bh + np.sum(d_hiddenlayer, axis=0) * learning_rate\n",
    "bout = bout + np.sum(d_output, axis=0) * learning_rate\n",
    "# Print bout & bh\n",
    "print(bh)\n",
    "print(bout)"
   ]
  },
  {
   "cell_type": "markdown",
   "metadata": {},
   "source": [
    "##### Table with bias\n",
    "\n",
    "| bout|   |   |\n",
    "|-----|---|---|\n",
    "| 0.18488318 | 0.66954473 | 0.63274883 |\n",
    "\n",
    "| bh |\n",
    "|----|\n",
    "| 0.00169162 |\n"
   ]
  }
 ],
 "metadata": {
  "kernelspec": {
   "display_name": "Python 2",
   "language": "python",
   "name": "python2"
  },
  "language_info": {
   "codemirror_mode": {
    "name": "ipython",
    "version": 2
   },
   "file_extension": ".py",
   "mimetype": "text/x-python",
   "name": "python",
   "nbconvert_exporter": "python",
   "pygments_lexer": "ipython2",
   "version": "2.7.13"
  }
 },
 "nbformat": 4,
 "nbformat_minor": 2
}
